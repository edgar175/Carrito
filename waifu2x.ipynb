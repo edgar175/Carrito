{
  "nbformat": 4,
  "nbformat_minor": 0,
  "metadata": {
    "colab": {
      "name": "waifu2x.ipynb",
      "private_outputs": true,
      "provenance": [],
      "collapsed_sections": [],
      "include_colab_link": true
    },
    "kernelspec": {
      "name": "python3",
      "display_name": "Python 3"
    },
    "accelerator": "GPU"
  },
  "cells": [
    {
      "cell_type": "markdown",
      "metadata": {
        "id": "view-in-github",
        "colab_type": "text"
      },
      "source": [
        "<a href=\"https://colab.research.google.com/github/edgar175/Carrito/blob/main/waifu2x.ipynb\" target=\"_parent\"><img src=\"https://colab.research.google.com/assets/colab-badge.svg\" alt=\"Open In Colab\"/></a>"
      ]
    },
    {
      "cell_type": "code",
      "metadata": {
        "id": "8i87gJKgym7i"
      },
      "source": [
        "#This mounts the google drive to your workspace\n",
        "from google.colab import drive\n",
        "\n",
        "try:\n",
        "  drive.mount('/content/drive/')\n",
        "except:\n",
        "  exit()\n",
        "\n",
        "\n"
      ],
      "execution_count": null,
      "outputs": []
    },
    {
      "cell_type": "code",
      "metadata": {
        "id": "be-JbCckqL-9"
      },
      "source": [
        "#Install and set up all necessary packages\n",
        "!apt install ffmpeg\n",
        "!apt install libmagic1 python3-yaml\n",
        "!apt install libvulkan-dev\n",
        "!pip install --user youtube-dl\n",
        "!git clone https://github.com/k4yt3x/video2x.git\n",
        "import os\n",
        "os.chdir('video2x/src')\n",
        "!git checkout 4.7.0\n",
        "!pip install -r requirements.txt\n",
        "!rm -rf video2x.yaml\n",
        "!wget -O video2x.yaml http://akas.io/v2xcolab\n",
        "os.chdir('../..')\n",
        "!wget https://github.com/nihui/realsr-ncnn-vulkan/releases/download/20200818/realsr-ncnn-vulkan-20200818-linux.zip\n",
        "!unzip realsr-ncnn-vulkan-20200818-linux.zip\n",
        "!wget https://github.com/nihui/waifu2x-ncnn-vulkan/releases/download/20200818/waifu2x-ncnn-vulkan-20200818-linux.zip\n",
        "!unzip waifu2x-ncnn-vulkan-20200818-linux.zip\n",
        "!wget https://github.com/nihui/srmd-ncnn-vulkan/releases/download/20200818/srmd-ncnn-vulkan-20200818-linux.zip\n",
        "!unzip srmd-ncnn-vulkan-20200818-linux\n",
        "!rm *-linux.zip\n",
        "!pip install -U PyYAML"
      ],
      "execution_count": null,
      "outputs": []
    },
    {
      "cell_type": "code",
      "metadata": {
        "id": "kEhWPMisvg55"
      },
      "source": [
        "#create directory where the images/videos are housed\n",
        "import os\n",
        "!mkdir drive/'My Drive'/videoupscaling\n",
        "\n",
        "def imprime_dir():\n",
        "    global diretorio, camino\n",
        "    indice = 1\n",
        "    camino = \"/content/drive/My Drive/videoupscaling\"\n",
        "    diretorio = os.listdir(caminho)\n",
        "\n",
        "    for item in diretorio:\n",
        "      print([indice], item)\n",
        "      indice += 1\n",
        "    \n",
        "if __name__ == \"__main__\":\n",
        "      imprime_dir()\n"
      ],
      "execution_count": null,
      "outputs": []
    },
    {
      "cell_type": "code",
      "metadata": {
        "id": "96Vf2Yv1sRrv"
      },
      "source": [
        "#Upscaling happens here!\n",
        "!python video2x/src/video2x.py -i drive/'My Drive'/videoupscaling/bart.mp4 -o drive/'My Drive'/videoupscaling/bart_4x.mp4 -d srmd_ncnn_vulkan -r 4.0"
      ],
      "execution_count": null,
      "outputs": []
    }
  ]
}